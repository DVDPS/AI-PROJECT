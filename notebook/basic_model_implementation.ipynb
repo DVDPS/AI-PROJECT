{
 "cells": [
  {
   "cell_type": "code",
   "execution_count": 1,
   "metadata": {},
   "outputs": [
    {
     "name": "stdout",
     "output_type": "stream",
     "text": [
      "              precision    recall  f1-score   support\n",
      "\n",
      "           0       0.94      1.00      0.97       953\n",
      "           1       1.00      0.63      0.77       162\n",
      "\n",
      "    accuracy                           0.95      1115\n",
      "   macro avg       0.97      0.81      0.87      1115\n",
      "weighted avg       0.95      0.95      0.94      1115\n",
      "\n"
     ]
    }
   ],
   "source": [
    "import pandas as pd\n",
    "from sklearn.model_selection import train_test_split\n",
    "from sklearn.feature_extraction.text import TfidfVectorizer\n",
    "from sklearn.linear_model import LogisticRegression\n",
    "from sklearn.metrics import classification_report\n",
    "df = pd.read_csv(\"../dataset/sms.csv\")\n",
    "vectorizer = TfidfVectorizer(stop_words='english')\n",
    "X = vectorizer.fit_transform(df['SMS test'])\n",
    "y = df['Fraudolent']\n",
    "X_train, X_test, y_train, y_test = train_test_split(X, y, test_size=0.2, random_state=42)\n",
    "model = LogisticRegression()\n",
    "model.fit(X_train, y_train)\n",
    "predictions = model.predict(X_test)\n",
    "print(classification_report(y_test, predictions))\n"
   ]
  },
  {
   "cell_type": "code",
   "execution_count": 2,
   "metadata": {},
   "outputs": [
    {
     "name": "stdout",
     "output_type": "stream",
     "text": [
      "The message is predicted to be: Not Fraudulent\n"
     ]
    }
   ],
   "source": [
    "def predict_sms_fraud(message):\n",
    "    processed_message = vectorizer.transform([message])\n",
    "    prediction = model.predict(processed_message)\n",
    "    return 'Fraudulent' if prediction[0] == 1 else 'Not Fraudulent'\n",
    "user_input = input(\"Enter the message:\")\n",
    "result = predict_sms_fraud(user_input)\n",
    "print(f\"The message is predicted to be: {result}\")"
   ]
  }
 ],
 "metadata": {
  "kernelspec": {
   "display_name": ".venv",
   "language": "python",
   "name": "python3"
  },
  "language_info": {
   "codemirror_mode": {
    "name": "ipython",
    "version": 3
   },
   "file_extension": ".py",
   "mimetype": "text/x-python",
   "name": "python",
   "nbconvert_exporter": "python",
   "pygments_lexer": "ipython3",
   "version": "3.10.10"
  }
 },
 "nbformat": 4,
 "nbformat_minor": 2
}

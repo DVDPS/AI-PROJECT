{
 "cells": [
  {
   "cell_type": "markdown",
   "metadata": {},
   "source": [
    "## LM Studio - easy inference"
   ]
  },
  {
   "cell_type": "markdown",
   "metadata": {},
   "source": [
    "### Requirements\n",
    "- LM Studio\n",
    "- LM Studio's server running on \"http://localhost:1234/v1\" or any other easy accessible address"
   ]
  },
  {
   "cell_type": "markdown",
   "metadata": {},
   "source": [
    "We aim to obtain the result in JSON format, which is a common data format with diverse uses in data handling. The expected output should look like this:\n",
    "\n",
    "```json\n",
    "{\n",
    "    \"is_fraudulent\": true\n",
    "}\n",
    "```\n",
    "\n",
    "```json\n",
    "{\n",
    "    \"is_fraudulent\": false\n",
    "}\n",
    "```\n",
    "\n",
    "The language model categorizes the sms as fraudulent or not.\n",
    "\n",
    "This is done by a combination of:\n",
    "- Prompt engineering\n",
    "- Fine-tuning\n",
    "- Hyperparameter optimization\n",
    "- Function-calling or JSON outputs"
   ]
  },
  {
   "cell_type": "markdown",
   "metadata": {},
   "source": [
    "### Base Implementation"
   ]
  },
  {
   "cell_type": "code",
   "execution_count": 1,
   "metadata": {},
   "outputs": [],
   "source": [
    "from openai import OpenAI\n",
    "\n",
    "local_server = \"http://localhost:1234/v1\"\n",
    "client = OpenAI(base_url=local_server, api_key=\"sk_1234567890\")\n",
    "\n",
    "# Prompts:\n",
    "\n",
    "CONDIFDENCE_SYSTEM_MESSAGE = \"\"\"You are excellent at providing responses in JSON format.\n",
    "\n",
    "You will be given \"Messages\" and your job is to predict if a message is fraudulent or not.\n",
    "\n",
    "You only respond following this json schema:\n",
    "\n",
    "{\n",
    "    \"name\": \"predict_fraudulence\",\n",
    "    \"description\": \"Assess if the given message is likely to be fraudulent.\",\n",
    "    \"response\": {\n",
    "        \"is_fraudulent\": {\n",
    "            \"type\": \"boolean\",\n",
    "            \"description\": \"Whether the message is predicted to be fraudulent.\"\n",
    "        },\n",
    "        \"confidence\": {\n",
    "            \"type\": \"number\",\n",
    "            \"description\": \"The confidence score of the prediction, ranging from 0.0 to 1.0, where 1.0 represents full confidence.\"\n",
    "        }\n",
    "    }\n",
    "}\n",
    "\"\"\"\n",
    "\n",
    "BOOL_SYSTEM_MESSAGE = \"\"\"You are excellent at providing responses in JSON format.\n",
    "\n",
    "You will be given \"Messages\" and your job is to predict if a message is fraudulent or not.\n",
    "\n",
    "You only respond following this json schema:\n",
    "\n",
    "{\n",
    "    \"is_fraudulent\": {\n",
    "        \"type\": \"boolean\",\n",
    "        \"description\": \"Whether the message is predicted to be fraudulent.\"\n",
    "    }\n",
    "}\n",
    "\n",
    "JSON OUTPUT ONLY!!!\n",
    "\"\"\"\n",
    "\n",
    "# Run inferenece on API - LM Studio (mimics OpenAI API)\n",
    "\n",
    "def predict_fraudulence(user_query):\n",
    "    response = client.chat.completions.create(\n",
    "        model=\"gpt-3.5-turbo\",\n",
    "        messages=[\n",
    "            {\"role\": \"system\", \"content\": BOOL_SYSTEM_MESSAGE},\n",
    "            {\"role\": \"user\", \"content\": user_query},\n",
    "        ],\n",
    "    )\n",
    "    return response.choices[0].message.content"
   ]
  },
  {
   "cell_type": "markdown",
   "metadata": {},
   "source": [
    "### Run inference and get JSON output"
   ]
  },
  {
   "cell_type": "code",
   "execution_count": 3,
   "metadata": {},
   "outputs": [],
   "source": [
    "# Run prediction\n",
    "user_query = \"I am a Nigerian prince and I want to give you $1,000,000\"\n",
    "prediction = predict_fraudulence(user_query)\n"
   ]
  },
  {
   "cell_type": "code",
   "execution_count": null,
   "metadata": {},
   "outputs": [
    {
     "name": "stdout",
     "output_type": "stream",
     "text": [
      "{\n",
      "    \"is_fraudulent\": true\n",
      "}\n"
     ]
    }
   ],
   "source": [
    "print(prediction)"
   ]
  },
  {
   "cell_type": "code",
   "execution_count": null,
   "metadata": {},
   "outputs": [],
   "source": [
    "# Extract the JSON from the response\n",
    "import json\n",
    "prediction_json = json.loads(prediction)\n"
   ]
  },
  {
   "cell_type": "code",
   "execution_count": null,
   "metadata": {},
   "outputs": [
    {
     "data": {
      "text/plain": [
       "True"
      ]
     },
     "execution_count": 7,
     "metadata": {},
     "output_type": "execute_result"
    }
   ],
   "source": [
    "prediction_json[\"is_fraudulent\"]"
   ]
  },
  {
   "cell_type": "markdown",
   "metadata": {},
   "source": [
    "### Full process as a function\n",
    "\n",
    "Run inference, get JSON output, and save the result result (with error handling)."
   ]
  },
  {
   "cell_type": "code",
   "execution_count": null,
   "metadata": {},
   "outputs": [],
   "source": [
    "import json\n",
    "from openai import OpenAI\n",
    "from typing import Optional\n",
    "\n",
    "local_server = \"http://localhost:1234/v1\"\n",
    "client = OpenAI(base_url=local_server, api_key=\"sk_1234567890\")\n",
    "\n",
    "# Choose which system message to use based on whether you want a confidence score\n",
    "system_message = BOOL_SYSTEM_MESSAGE\n",
    "def predict_fraudulence(user_query):\n",
    "    try:\n",
    "        response = client.chat.completions.create(\n",
    "            model=\"gpt-3.5-turbo\",\n",
    "            messages=[\n",
    "                {\"role\": \"system\", \"content\": system_message},\n",
    "                {\"role\": \"user\", \"content\": user_query},\n",
    "            ]\n",
    "        )\n",
    "        prediction_content = response.choices[0].message.content\n",
    "        prediction_json = json.loads(prediction_content)\n",
    "        \n",
    "        # Validate the prediction JSON\n",
    "        if \"is_fraudulent\" in prediction_json and \\\n",
    "            (type(prediction_json[\"is_fraudulent\"]) == bool):\n",
    "            return prediction_json\n",
    "        else:\n",
    "            raise ValueError(\"Invalid JSON structure from prediction: {}\".format(prediction_content))\n",
    "    except Exception as e:\n",
    "        print(f\"An error occurred: {e}\")\n",
    "        return None\n"
   ]
  },
  {
   "cell_type": "code",
   "execution_count": null,
   "metadata": {},
   "outputs": [
    {
     "name": "stdout",
     "output_type": "stream",
     "text": [
      "{'is_fraudulent': True}\n"
     ]
    }
   ],
   "source": [
    "# Run prediction\n",
    "user_query = \"Hi Chris! Can you send me $10? I need it for a school project. Thanks!\"\n",
    "prediction_json = predict_fraudulence(user_query)\n",
    "\n",
    "if prediction_json:\n",
    "    print(prediction_json)\n",
    "else:\n",
    "    print(\"Failed to get a valid prediction.\")"
   ]
  }
 ],
 "metadata": {
  "kernelspec": {
   "display_name": ".venv",
   "language": "python",
   "name": "python3"
  },
  "language_info": {
   "codemirror_mode": {
    "name": "ipython",
    "version": 3
   },
   "file_extension": ".py",
   "mimetype": "text/x-python",
   "name": "python",
   "nbconvert_exporter": "python",
   "pygments_lexer": "ipython3",
   "version": "3.10.10"
  }
 },
 "nbformat": 4,
 "nbformat_minor": 2
}

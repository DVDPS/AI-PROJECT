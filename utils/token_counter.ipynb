{
 "cells": [
  {
   "cell_type": "code",
   "execution_count": 5,
   "metadata": {},
   "outputs": [],
   "source": [
    "import pandas as pd\n",
    "import tiktoken\n",
    "\n",
    "\n",
    "def main(file_path=\"../dataset/sms.csv\"):\n",
    "    # Load the dataset\n",
    "    sms_data = pd.read_csv(file_path)\n",
    "\n",
    "    # Initialize total token count\n",
    "    total_tokens = 0\n",
    "\n",
    "    # Iterate over each message and calculate token count\n",
    "    for message in sms_data['SMS test']:\n",
    "        token_count = count_tokens(message)\n",
    "        total_tokens += token_count\n",
    "\n",
    "    # Output the total number of tokens\n",
    "    print(f\"Total number of tokens in all messages: {total_tokens}\")\n",
    "    return total_tokens"
   ]
  },
  {
   "cell_type": "code",
   "execution_count": 6,
   "metadata": {},
   "outputs": [
    {
     "ename": "AttributeError",
     "evalue": "module 'tiktoken' has no attribute 'count_tokens'",
     "output_type": "error",
     "traceback": [
      "\u001b[1;31m---------------------------------------------------------------------------\u001b[0m",
      "\u001b[1;31mAttributeError\u001b[0m                            Traceback (most recent call last)",
      "\u001b[1;32mc:\\Github\\AI-PROJECT-LUISS\\utils\\token_counter.ipynb Cell 2\u001b[0m line \u001b[0;36m1\n\u001b[1;32m----> <a href='vscode-notebook-cell:/c%3A/Github/AI-PROJECT-LUISS/utils/token_counter.ipynb#W1sZmlsZQ%3D%3D?line=0'>1</a>\u001b[0m result \u001b[39m=\u001b[39m main()\n",
      "\u001b[1;32mc:\\Github\\AI-PROJECT-LUISS\\utils\\token_counter.ipynb Cell 2\u001b[0m line \u001b[0;36m1\n\u001b[0;32m     <a href='vscode-notebook-cell:/c%3A/Github/AI-PROJECT-LUISS/utils/token_counter.ipynb#W1sZmlsZQ%3D%3D?line=11'>12</a>\u001b[0m \u001b[39m# Iterate over each message and calculate token count\u001b[39;00m\n\u001b[0;32m     <a href='vscode-notebook-cell:/c%3A/Github/AI-PROJECT-LUISS/utils/token_counter.ipynb#W1sZmlsZQ%3D%3D?line=12'>13</a>\u001b[0m \u001b[39mfor\u001b[39;00m message \u001b[39min\u001b[39;00m sms_data[\u001b[39m'\u001b[39m\u001b[39mSMS test\u001b[39m\u001b[39m'\u001b[39m]:\n\u001b[1;32m---> <a href='vscode-notebook-cell:/c%3A/Github/AI-PROJECT-LUISS/utils/token_counter.ipynb#W1sZmlsZQ%3D%3D?line=13'>14</a>\u001b[0m     token_count \u001b[39m=\u001b[39m count_tokens(message)\n\u001b[0;32m     <a href='vscode-notebook-cell:/c%3A/Github/AI-PROJECT-LUISS/utils/token_counter.ipynb#W1sZmlsZQ%3D%3D?line=14'>15</a>\u001b[0m     total_tokens \u001b[39m+\u001b[39m\u001b[39m=\u001b[39m token_count\n\u001b[0;32m     <a href='vscode-notebook-cell:/c%3A/Github/AI-PROJECT-LUISS/utils/token_counter.ipynb#W1sZmlsZQ%3D%3D?line=16'>17</a>\u001b[0m \u001b[39m# Output the total number of tokens\u001b[39;00m\n",
      "\u001b[1;32mc:\\Github\\AI-PROJECT-LUISS\\utils\\token_counter.ipynb Cell 2\u001b[0m line \u001b[0;36m6\n\u001b[0;32m      <a href='vscode-notebook-cell:/c%3A/Github/AI-PROJECT-LUISS/utils/token_counter.ipynb#W1sZmlsZQ%3D%3D?line=3'>4</a>\u001b[0m \u001b[39mdef\u001b[39;00m \u001b[39mcount_tokens\u001b[39m(text):\n\u001b[0;32m      <a href='vscode-notebook-cell:/c%3A/Github/AI-PROJECT-LUISS/utils/token_counter.ipynb#W1sZmlsZQ%3D%3D?line=4'>5</a>\u001b[0m \u001b[39m    \u001b[39m\u001b[39m\"\"\"Counts the number of tokens in a text using tiktoken.\"\"\"\u001b[39;00m\n\u001b[1;32m----> <a href='vscode-notebook-cell:/c%3A/Github/AI-PROJECT-LUISS/utils/token_counter.ipynb#W1sZmlsZQ%3D%3D?line=5'>6</a>\u001b[0m     \u001b[39mreturn\u001b[39;00m tiktoken\u001b[39m.\u001b[39;49mcount_tokens(text)\n",
      "\u001b[1;31mAttributeError\u001b[0m: module 'tiktoken' has no attribute 'count_tokens'"
     ]
    }
   ],
   "source": [
    "result = main()"
   ]
  },
  {
   "cell_type": "code",
   "execution_count": 8,
   "metadata": {},
   "outputs": [],
   "source": [
    "encoding = tiktoken.get_encoding(\"cl100k_base\")"
   ]
  },
  {
   "cell_type": "code",
   "execution_count": 11,
   "metadata": {},
   "outputs": [],
   "source": [
    "def main(file_path=\"../dataset/sms.csv\"):\n",
    "    # Load the dataset\n",
    "    sms_data = pd.read_csv(file_path)\n",
    "\n",
    "    # Initialize total token count\n",
    "    total_tokens = 0\n",
    "\n",
    "    # Iterate over each message and calculate token count\n",
    "    for message in sms_data['SMS test']:\n",
    "        token_count = len(encoding.encode(message))\n",
    "        total_tokens += token_count\n",
    "\n",
    "    # Output the total number of tokens\n",
    "    print(f\"Total number of tokens in all messages: {total_tokens}\")\n",
    "    return total_tokens"
   ]
  },
  {
   "cell_type": "code",
   "execution_count": 12,
   "metadata": {},
   "outputs": [
    {
     "name": "stdout",
     "output_type": "stream",
     "text": [
      "Total number of tokens in all messages: 124763\n"
     ]
    }
   ],
   "source": [
    "result = main()"
   ]
  }
 ],
 "metadata": {
  "kernelspec": {
   "display_name": ".venv",
   "language": "python",
   "name": "python3"
  },
  "language_info": {
   "codemirror_mode": {
    "name": "ipython",
    "version": 3
   },
   "file_extension": ".py",
   "mimetype": "text/x-python",
   "name": "python",
   "nbconvert_exporter": "python",
   "pygments_lexer": "ipython3",
   "version": "3.10.10"
  }
 },
 "nbformat": 4,
 "nbformat_minor": 2
}

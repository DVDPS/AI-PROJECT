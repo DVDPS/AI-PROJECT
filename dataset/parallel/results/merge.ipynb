{
 "cells": [
  {
   "cell_type": "code",
   "execution_count": null,
   "metadata": {},
   "outputs": [],
   "source": [
    "import pandas as pd\n",
    "\n",
    "# Paths to the processed files\n",
    "file_1 = './sms_1_processed.csv'\n",
    "file_2 = './sms_2_processed.csv'\n",
    "file_3 = './sms_3_processed.csv'\n",
    "\n",
    "# Load the processed data\n",
    "df1 = pd.read_csv(file_1)\n",
    "df2 = pd.read_csv(file_2)\n",
    "df3 = pd.read_csv(file_3)\n",
    "\n",
    "# Concatenate the dataframes\n",
    "merged_df = pd.concat([df1, df2, df3])\n",
    "\n",
    "# Save the merged dataset\n",
    "merged_df.to_csv('path_to/merged_sms_processed.csv', index=False)\n"
   ]
  }
 ],
 "metadata": {
  "kernelspec": {
   "display_name": ".venv",
   "language": "python",
   "name": "python3"
  },
  "language_info": {
   "name": "python",
   "version": "3.10.10"
  }
 },
 "nbformat": 4,
 "nbformat_minor": 2
}

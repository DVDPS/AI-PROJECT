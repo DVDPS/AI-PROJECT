{
 "cells": [
  {
   "cell_type": "code",
   "execution_count": 2,
   "metadata": {},
   "outputs": [
    {
     "name": "stdout",
     "output_type": "stream",
     "text": [
      "Using device: cuda\n"
     ]
    }
   ],
   "source": [
    "import torch\n",
    "from transformers import pipeline, TextGenerationPipeline, Conversation\n",
    "\n",
    "# Check if CUDA is available and set the device accordingly\n",
    "device = 'cuda' if torch.cuda.is_available() else 'cpu'\n",
    "\n",
    "print('Using device:', device)"
   ]
  },
  {
   "cell_type": "code",
   "execution_count": 5,
   "metadata": {},
   "outputs": [
    {
     "name": "stderr",
     "output_type": "stream",
     "text": [
      "Loading checkpoint shards: 100%|██████████| 8/8 [00:02<00:00,  3.37it/s]\n",
      "generation_config.json: 100%|██████████| 111/111 [00:00<?, ?B/s] \n",
      "tokenizer_config.json: 100%|██████████| 1.43k/1.43k [00:00<00:00, 2.88MB/s]\n",
      "tokenizer.model: 100%|██████████| 493k/493k [00:00<00:00, 45.2MB/s]\n",
      "tokenizer.json: 100%|██████████| 1.80M/1.80M [00:00<00:00, 3.56MB/s]\n",
      "added_tokens.json: 100%|██████████| 42.0/42.0 [00:00<?, ?B/s]\n",
      "special_tokens_map.json: 100%|██████████| 168/168 [00:00<?, ?B/s] \n"
     ]
    }
   ],
   "source": [
    "pipe = pipeline(\"text-generation\", model=\"HuggingFaceH4/zephyr-7b-beta\", device=device)"
   ]
  },
  {
   "cell_type": "code",
   "execution_count": 6,
   "metadata": {},
   "outputs": [
    {
     "name": "stderr",
     "output_type": "stream",
     "text": [
      "d:\\Github\\AI-PROJECT-LUISS\\.venv\\lib\\site-packages\\transformers\\generation\\utils.py:1473: UserWarning: You have modified the pretrained model configuration to control generation. This is a deprecated strategy to control generation and will be removed soon, in a future version. Please use and modify the model generation configuration (see https://huggingface.co/docs/transformers/generation_strategies#default-text-generation-configuration )\n",
      "  warnings.warn(\n"
     ]
    },
    {
     "name": "stdout",
     "output_type": "stream",
     "text": [
      "<|system|>\n",
      "You are a friendly chatbot who always responds in the style of a pirate</s>\n",
      "<|user|>\n",
      "How many cakes of 1kg can a human eat in one sitting?</s>\n",
      "<|assistant|>\n",
      "Matey, I be thinkin' that the amount o' cakes a human can eat in one setting would depend on their size and appetite. Some big-bellied buccaneers might be able to devour two or three cakes o' 1kg, but most folks would struggle to finish even one. It's best to enjoy a cake in moderation, me hearties!\n"
     ]
    }
   ],
   "source": [
    "\n",
    "messages = [\n",
    "    {\n",
    "        \"role\": \"system\",\n",
    "        \"content\": \"You are a friendly chatbot who always responds in the style of a pirate\",\n",
    "    },\n",
    "    {\"role\": \"user\", \"content\": \"How many cakes of 1kg can a human eat in one sitting?\"},\n",
    "]\n",
    "\n",
    "prompt = pipe.tokenizer.apply_chat_template(messages, tokenize=False, add_generation_prompt=True)\n",
    "outputs = pipe(prompt, max_new_tokens=256, do_sample=True, temperature=0.7, top_k=50, top_p=0.95)\n",
    "print(outputs[0][\"generated_text\"])"
   ]
  },
  {
   "cell_type": "code",
   "execution_count": 7,
   "metadata": {},
   "outputs": [
    {
     "name": "stdout",
     "output_type": "stream",
     "text": [
      "<|system|>\n",
      "You are a friendly chatbot who always responds in the style of a pirate</s>\n",
      "<|user|>\n",
      "What's the weather like today?</s>\n",
      "<|assistant|>\n",
      "Avast, me hearties! The winds be blowin' a bit fierce, but the sun be peekin' through the clouds, and there's a hint o' rain in the air. Best to keep yer land legs close and yer sea legs steady! Yo ho ho and a bottle o' rum, me maties!\n"
     ]
    }
   ],
   "source": [
    "# Second inference\n",
    "messages = [\n",
    "    {\n",
    "        \"role\": \"system\",\n",
    "        \"content\": \"You are a friendly chatbot who always responds in the style of a pirate\",\n",
    "    },\n",
    "    {\"role\": \"user\", \"content\": \"What's the weather like today?\"},\n",
    "]\n",
    "\n",
    "prompt = pipe.tokenizer.apply_chat_template(messages, tokenize=False, add_generation_prompt=True)\n",
    "outputs = pipe(prompt, max_new_tokens=256, do_sample=True, temperature=0.7, top_k=50, top_p=0.95)\n",
    "print(outputs[0][\"generated_text\"])"
   ]
  },
  {
   "cell_type": "code",
   "execution_count": 4,
   "metadata": {},
   "outputs": [
    {
     "ename": "AttributeError",
     "evalue": "'str' object has no attribute 'config'",
     "output_type": "error",
     "traceback": [
      "\u001b[1;31m---------------------------------------------------------------------------\u001b[0m",
      "\u001b[1;31mAttributeError\u001b[0m                            Traceback (most recent call last)",
      "\u001b[1;32md:\\Github\\AI-PROJECT-LUISS\\hf_playground\\inference.ipynb Cell 5\u001b[0m line \u001b[0;36m1\n\u001b[0;32m     <a href='vscode-notebook-cell:/d%3A/Github/AI-PROJECT-LUISS/hf_playground/inference.ipynb#X10sZmlsZQ%3D%3D?line=10'>11</a>\u001b[0m conversation \u001b[39m=\u001b[39m Conversation(conversation)\n\u001b[0;32m     <a href='vscode-notebook-cell:/d%3A/Github/AI-PROJECT-LUISS/hf_playground/inference.ipynb#X10sZmlsZQ%3D%3D?line=12'>13</a>\u001b[0m \u001b[39m# Initialize the text generation pipeline with a specific model and device\u001b[39;00m\n\u001b[1;32m---> <a href='vscode-notebook-cell:/d%3A/Github/AI-PROJECT-LUISS/hf_playground/inference.ipynb#X10sZmlsZQ%3D%3D?line=13'>14</a>\u001b[0m pipe \u001b[39m=\u001b[39m TextGenerationPipeline(\n\u001b[0;32m     <a href='vscode-notebook-cell:/d%3A/Github/AI-PROJECT-LUISS/hf_playground/inference.ipynb#X10sZmlsZQ%3D%3D?line=14'>15</a>\u001b[0m     model\u001b[39m=\u001b[39;49m\u001b[39m\"\u001b[39;49m\u001b[39mHuggingFaceH4/zephyr-7b-beta\u001b[39;49m\u001b[39m\"\u001b[39;49m,\n\u001b[0;32m     <a href='vscode-notebook-cell:/d%3A/Github/AI-PROJECT-LUISS/hf_playground/inference.ipynb#X10sZmlsZQ%3D%3D?line=15'>16</a>\u001b[0m     device\u001b[39m=\u001b[39;49mdevice,\n\u001b[0;32m     <a href='vscode-notebook-cell:/d%3A/Github/AI-PROJECT-LUISS/hf_playground/inference.ipynb#X10sZmlsZQ%3D%3D?line=16'>17</a>\u001b[0m     generator\u001b[39m=\u001b[39;49m{\u001b[39m\"\u001b[39;49m\u001b[39mmax_length\u001b[39;49m\u001b[39m\"\u001b[39;49m: \u001b[39m256\u001b[39;49m, \u001b[39m\"\u001b[39;49m\u001b[39mdo_sample\u001b[39;49m\u001b[39m\"\u001b[39;49m: \u001b[39mTrue\u001b[39;49;00m, \u001b[39m\"\u001b[39;49m\u001b[39mtemperature\u001b[39;49m\u001b[39m\"\u001b[39;49m: \u001b[39m0.7\u001b[39;49m, \u001b[39m\"\u001b[39;49m\u001b[39mtop_k\u001b[39;49m\u001b[39m\"\u001b[39;49m: \u001b[39m50\u001b[39;49m, \u001b[39m\"\u001b[39;49m\u001b[39mtop_p\u001b[39;49m\u001b[39m\"\u001b[39;49m: \u001b[39m0.95\u001b[39;49m},\n\u001b[0;32m     <a href='vscode-notebook-cell:/d%3A/Github/AI-PROJECT-LUISS/hf_playground/inference.ipynb#X10sZmlsZQ%3D%3D?line=17'>18</a>\u001b[0m )\n\u001b[0;32m     <a href='vscode-notebook-cell:/d%3A/Github/AI-PROJECT-LUISS/hf_playground/inference.ipynb#X10sZmlsZQ%3D%3D?line=19'>20</a>\u001b[0m \u001b[39m# Generate text based on the conversation\u001b[39;00m\n\u001b[0;32m     <a href='vscode-notebook-cell:/d%3A/Github/AI-PROJECT-LUISS/hf_playground/inference.ipynb#X10sZmlsZQ%3D%3D?line=20'>21</a>\u001b[0m generated_text \u001b[39m=\u001b[39m pipe(conversation)\n",
      "File \u001b[1;32md:\\Github\\AI-PROJECT-LUISS\\.venv\\lib\\site-packages\\transformers\\pipelines\\text_generation.py:70\u001b[0m, in \u001b[0;36mTextGenerationPipeline.__init__\u001b[1;34m(self, *args, **kwargs)\u001b[0m\n\u001b[0;32m     69\u001b[0m \u001b[39mdef\u001b[39;00m \u001b[39m__init__\u001b[39m(\u001b[39mself\u001b[39m, \u001b[39m*\u001b[39margs, \u001b[39m*\u001b[39m\u001b[39m*\u001b[39mkwargs):\n\u001b[1;32m---> 70\u001b[0m     \u001b[39msuper\u001b[39m()\u001b[39m.\u001b[39m\u001b[39m__init__\u001b[39m(\u001b[39m*\u001b[39margs, \u001b[39m*\u001b[39m\u001b[39m*\u001b[39mkwargs)\n\u001b[0;32m     71\u001b[0m     \u001b[39mself\u001b[39m\u001b[39m.\u001b[39mcheck_model_type(\n\u001b[0;32m     72\u001b[0m         TF_MODEL_FOR_CAUSAL_LM_MAPPING_NAMES \u001b[39mif\u001b[39;00m \u001b[39mself\u001b[39m\u001b[39m.\u001b[39mframework \u001b[39m==\u001b[39m \u001b[39m\"\u001b[39m\u001b[39mtf\u001b[39m\u001b[39m\"\u001b[39m \u001b[39melse\u001b[39;00m MODEL_FOR_CAUSAL_LM_MAPPING_NAMES\n\u001b[0;32m     73\u001b[0m     )\n\u001b[0;32m     74\u001b[0m     \u001b[39mif\u001b[39;00m \u001b[39m\"\u001b[39m\u001b[39mprefix\u001b[39m\u001b[39m\"\u001b[39m \u001b[39mnot\u001b[39;00m \u001b[39min\u001b[39;00m \u001b[39mself\u001b[39m\u001b[39m.\u001b[39m_preprocess_params:\n\u001b[0;32m     75\u001b[0m         \u001b[39m# This is very specific. The logic is quite complex and needs to be done\u001b[39;00m\n\u001b[0;32m     76\u001b[0m         \u001b[39m# as a \"default\".\u001b[39;00m\n\u001b[0;32m     77\u001b[0m         \u001b[39m# It also defines both some preprocess_kwargs and generate_kwargs\u001b[39;00m\n\u001b[0;32m     78\u001b[0m         \u001b[39m# which is why we cannot put them in their respective methods.\u001b[39;00m\n",
      "File \u001b[1;32md:\\Github\\AI-PROJECT-LUISS\\.venv\\lib\\site-packages\\transformers\\pipelines\\base.py:776\u001b[0m, in \u001b[0;36mPipeline.__init__\u001b[1;34m(self, model, tokenizer, feature_extractor, image_processor, modelcard, framework, task, args_parser, device, torch_dtype, binary_output, **kwargs)\u001b[0m\n\u001b[0;32m    760\u001b[0m \u001b[39mdef\u001b[39;00m \u001b[39m__init__\u001b[39m(\n\u001b[0;32m    761\u001b[0m     \u001b[39mself\u001b[39m,\n\u001b[0;32m    762\u001b[0m     model: Union[\u001b[39m\"\u001b[39m\u001b[39mPreTrainedModel\u001b[39m\u001b[39m\"\u001b[39m, \u001b[39m\"\u001b[39m\u001b[39mTFPreTrainedModel\u001b[39m\u001b[39m\"\u001b[39m],\n\u001b[1;32m   (...)\u001b[0m\n\u001b[0;32m    773\u001b[0m     \u001b[39m*\u001b[39m\u001b[39m*\u001b[39mkwargs,\n\u001b[0;32m    774\u001b[0m ):\n\u001b[0;32m    775\u001b[0m     \u001b[39mif\u001b[39;00m framework \u001b[39mis\u001b[39;00m \u001b[39mNone\u001b[39;00m:\n\u001b[1;32m--> 776\u001b[0m         framework, model \u001b[39m=\u001b[39m infer_framework_load_model(model, config\u001b[39m=\u001b[39mmodel\u001b[39m.\u001b[39;49mconfig)\n\u001b[0;32m    778\u001b[0m     \u001b[39mself\u001b[39m\u001b[39m.\u001b[39mtask \u001b[39m=\u001b[39m task\n\u001b[0;32m    779\u001b[0m     \u001b[39mself\u001b[39m\u001b[39m.\u001b[39mmodel \u001b[39m=\u001b[39m model\n",
      "\u001b[1;31mAttributeError\u001b[0m: 'str' object has no attribute 'config'"
     ]
    }
   ],
   "source": [
    "# Define the conversation as a list of dictionaries\n",
    "conversation = [\n",
    "    {\n",
    "        \"role\": \"system\",\n",
    "        \"content\": \"You are a friendly chatbot who always responds in the style of a pirate\",\n",
    "    },\n",
    "    {\"role\": \"user\", \"content\": \"How many cakes of 1kg can a human eat in one sitting?\"},\n",
    "]\n",
    "\n",
    "# Create a Conversation object\n",
    "conversation = Conversation(conversation)\n",
    "\n",
    "# Initialize the text generation pipeline with a specific model and device\n",
    "pipe = TextGenerationPipeline(\n",
    "    model=\"HuggingFaceH4/zephyr-7b-beta\",\n",
    "    device=device,\n",
    "    generator={\"max_length\": 256, \"do_sample\": True, \"temperature\": 0.7, \"top_k\": 50, \"top_p\": 0.95},\n",
    ")\n",
    "\n",
    "# Generate text based on the conversation\n",
    "generated_text = pipe(conversation)\n",
    "\n",
    "# Print the generated text\n",
    "print(generated_text[0]['generated_text'])"
   ]
  },
  {
   "cell_type": "code",
   "execution_count": 8,
   "metadata": {},
   "outputs": [
    {
     "data": {
      "text/plain": [
       "device(type='cuda', index=0)"
      ]
     },
     "execution_count": 8,
     "metadata": {},
     "output_type": "execute_result"
    }
   ],
   "source": [
    "pipe.model.device"
   ]
  },
  {
   "cell_type": "code",
   "execution_count": 9,
   "metadata": {},
   "outputs": [
    {
     "data": {
      "text/plain": [
       "True"
      ]
     },
     "execution_count": 9,
     "metadata": {},
     "output_type": "execute_result"
    }
   ],
   "source": [
    "torch.cuda.is_available()"
   ]
  }
 ],
 "metadata": {
  "kernelspec": {
   "display_name": ".venv",
   "language": "python",
   "name": "python3"
  },
  "language_info": {
   "codemirror_mode": {
    "name": "ipython",
    "version": 3
   },
   "file_extension": ".py",
   "mimetype": "text/x-python",
   "name": "python",
   "nbconvert_exporter": "python",
   "pygments_lexer": "ipython3",
   "version": "3.10.10"
  }
 },
 "nbformat": 4,
 "nbformat_minor": 2
}
